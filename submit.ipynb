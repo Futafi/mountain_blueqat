{
 "cells": [
  {
   "cell_type": "code",
   "execution_count": null,
   "metadata": {},
   "outputs": [],
   "source": [
    "from matplotlib import animation, rc\n",
    "import matplotlib.pyplot as plt\n",
    "from matplotlib import pyplot as plt\n",
    "import os\n",
    "import gym\n",
    "from pyvirtualdisplay import Display\n",
    "display = Display(visible=0, size=(1024, 768))\n",
    "display.start()\n",
    "os.environ[\"DISPLAY\"] = \":\" + str(display.display) + \".\" + str(display.screen)\n",
    "env = gym.make(\"MountainCar-v0\")"
   ]
  },
  {
   "cell_type": "code",
   "execution_count": null,
   "metadata": {},
   "outputs": [],
   "source": [
    "import gym\n",
    "import time\n",
    "import optuna\n",
    "import numpy as np\n",
    "from blueqat import opt\n",
    "Opt = opt.Opt"
   ]
  },
  {
   "cell_type": "markdown",
   "metadata": {},
   "source": [
    "# なんか色々定義"
   ]
  },
  {
   "cell_type": "code",
   "execution_count": null,
   "metadata": {},
   "outputs": [],
   "source": [
    "env = gym.make(\"MountainCar-v0\")\n",
    "qstr = \"{}*(1 - (q0 + q1 + q2))^2\""
   ]
  },
  {
   "cell_type": "code",
   "execution_count": null,
   "metadata": {},
   "outputs": [],
   "source": [
    "def get_matrix(position, velocity, a=5, b=1e-2, c=1):\n",
    "    # 中心を0に近づけ、負の値を正にする\n",
    "    e_p = abs(position + 0.5)**2\n",
    "\n",
    "    matrix = [-1*(e_p+a*abs(velocity + b * -1)), -1*(e_p+a *\n",
    "                                                     abs(velocity + b * 0)), -1*(e_p+a*abs(velocity + b * 1))]\n",
    "    return matrix"
   ]
  },
  {
   "cell_type": "code",
   "execution_count": null,
   "metadata": {},
   "outputs": [],
   "source": [
    "qaoa_action_dic = {(1, 0, 0): 0, (0, 1, 0): 1,\n",
    "                   (0, 0, 1): 2, (1, 0): 0, (0, 1): 2}\n",
    "\n",
    "\n",
    "def get_action(action_qaoa):\n",
    "    return qaoa_action_dic[action_qaoa]\n",
    "\n",
    "\n",
    "def get_qaoa(p, v, a, b, c):\n",
    "    return Opt().add(np.diag(get_matrix(p, v, a, b))).add(qstr.format(c))\n",
    "\n",
    "\n",
    "def get_max_position(obs):\n",
    "    return max([(i[0] + 0.5)**2 for i in obs])"
   ]
  },
  {
   "cell_type": "markdown",
   "metadata": {},
   "source": [
    "# optunaしてみる"
   ]
  },
  {
   "cell_type": "code",
   "execution_count": null,
   "metadata": {},
   "outputs": [],
   "source": [
    "# 50回回して評価\n",
    "\n",
    "\n",
    "def objective(trial):\n",
    "    a = trial.suggest_loguniform(\"a\", 1e1, 1e3)\n",
    "    b = trial.suggest_uniform(\"b\", 1e-2, 1e-1)\n",
    "    c = trial.suggest_loguniform(\"c\", 1e1, 1e3)\n",
    "\n",
    "    observation = env.reset()\n",
    "    missed_count = 0\n",
    "    obs = []\n",
    "\n",
    "    for i in range(50):\n",
    "        p, v = observation\n",
    "\n",
    "        problem = get_qaoa(p, v, a, b, c)\n",
    "\n",
    "        action_qaoa = tuple(problem.run())\n",
    "        while sum(action_qaoa) != 1:\n",
    "            missed_count += 1\n",
    "            if missed_count == 50:\n",
    "                return 100\n",
    "            action_qaoa = tuple(problem.run())\n",
    "\n",
    "        action = get_action(action_qaoa)\n",
    "\n",
    "        observation, reward, done, info = env.step(action)\n",
    "\n",
    "        obs.append(observation)\n",
    "\n",
    "        if done == True:\n",
    "            print(\"finissed\")\n",
    "            print(obs)\n",
    "            return -(51 - len(obs)) * 100\n",
    "\n",
    "    return -100 * get_max_position(obs)"
   ]
  },
  {
   "cell_type": "code",
   "execution_count": null,
   "metadata": {},
   "outputs": [],
   "source": [
    "study = optuna.create_study()"
   ]
  },
  {
   "cell_type": "code",
   "execution_count": null,
   "metadata": {
    "scrolled": true
   },
   "outputs": [],
   "source": [
    "start = time.time()\n",
    "study.optimize(objective, n_trials=10, n_jobs=-1)\n",
    "seconds = time.time() - start"
   ]
  },
  {
   "cell_type": "code",
   "execution_count": null,
   "metadata": {},
   "outputs": [],
   "source": [
    "seconds"
   ]
  },
  {
   "cell_type": "code",
   "execution_count": null,
   "metadata": {},
   "outputs": [],
   "source": [
    "study.best_params.values()"
   ]
  },
  {
   "cell_type": "code",
   "execution_count": null,
   "metadata": {},
   "outputs": [],
   "source": [
    "a, b, c = study.best_params.values()"
   ]
  },
  {
   "cell_type": "code",
   "execution_count": null,
   "metadata": {},
   "outputs": [],
   "source": [
    "observation = env.reset()\n",
    "\n",
    "fig = plt.figure()\n",
    "ims = []\n",
    "actions = []\n",
    "missed_count = 0\n",
    "obs = []\n",
    "\n",
    "for i in range(200):\n",
    "    p, v = observation\n",
    "\n",
    "    problem = get_qaoa(p, v, a, b, c)\n",
    "\n",
    "    #action_qaoa = tuple(problem.run())\n",
    "    action_qaoa = problem.qaoa().most_common()[0][0]\n",
    "    while sum(action_qaoa) != 1:\n",
    "        missed_count += 1\n",
    "        if missed_count >= 200:\n",
    "            break\n",
    "        action_qaoa = tuple(problem.run())\n",
    "\n",
    "    action = get_action(action_qaoa)\n",
    "\n",
    "    actions.append(action)\n",
    "\n",
    "    observation, reward, done, info = env.step(action)\n",
    "    obs.append(observation)\n",
    "\n",
    "    im = plt.imshow(env.render(mode='rgb_array'))\n",
    "    ims.append([im])\n",
    "\n",
    "    if done == True:\n",
    "        break"
   ]
  },
  {
   "cell_type": "code",
   "execution_count": null,
   "metadata": {},
   "outputs": [],
   "source": [
    "ani = animation.ArtistAnimation(fig, ims, interval=15, blit=True)\n",
    "rc('animation', html='jshtml')\n",
    "ani"
   ]
  },
  {
   "cell_type": "code",
   "execution_count": null,
   "metadata": {},
   "outputs": [],
   "source": [
    "len(obs)"
   ]
  },
  {
   "cell_type": "code",
   "execution_count": null,
   "metadata": {},
   "outputs": [],
   "source": [
    "missed_count"
   ]
  },
  {
   "cell_type": "code",
   "execution_count": null,
   "metadata": {},
   "outputs": [],
   "source": []
  }
 ],
 "metadata": {
  "kernelspec": {
   "display_name": "Python 3",
   "language": "python",
   "name": "python3"
  },
  "language_info": {
   "codemirror_mode": {
    "name": "ipython",
    "version": 3
   },
   "file_extension": ".py",
   "mimetype": "text/x-python",
   "name": "python",
   "nbconvert_exporter": "python",
   "pygments_lexer": "ipython3",
   "version": "3.6.7"
  },
  "toc": {
   "base_numbering": 1,
   "nav_menu": {},
   "number_sections": true,
   "sideBar": true,
   "skip_h1_title": false,
   "title_cell": "Table of Contents",
   "title_sidebar": "Contents",
   "toc_cell": false,
   "toc_position": {},
   "toc_section_display": true,
   "toc_window_display": false
  },
  "varInspector": {
   "cols": {
    "lenName": 16,
    "lenType": 16,
    "lenVar": 40
   },
   "kernels_config": {
    "python": {
     "delete_cmd_postfix": "",
     "delete_cmd_prefix": "del ",
     "library": "var_list.py",
     "varRefreshCmd": "print(var_dic_list())"
    },
    "r": {
     "delete_cmd_postfix": ") ",
     "delete_cmd_prefix": "rm(",
     "library": "var_list.r",
     "varRefreshCmd": "cat(var_dic_list()) "
    }
   },
   "types_to_exclude": [
    "module",
    "function",
    "builtin_function_or_method",
    "instance",
    "_Feature"
   ],
   "window_display": false
  }
 },
 "nbformat": 4,
 "nbformat_minor": 2
}
